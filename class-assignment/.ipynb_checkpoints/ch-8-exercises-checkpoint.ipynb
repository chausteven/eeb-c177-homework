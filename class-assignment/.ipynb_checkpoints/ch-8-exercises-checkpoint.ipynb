{
 "cells": [
  {
   "cell_type": "code",
   "execution_count": 4,
   "metadata": {},
   "outputs": [
    {
     "name": "stdout",
     "output_type": "stream",
     "text": [
      "{'Dog': 'chien', 'Cat': 'chat', 'Walrus': 'morse'}\n"
     ]
    }
   ],
   "source": [
    "# 8.1\n",
    "e2f = dict(Dog='chien', Cat='chat', Walrus='morse')\n",
    "print(e2f)"
   ]
  },
  {
   "cell_type": "code",
   "execution_count": 13,
   "metadata": {},
   "outputs": [
    {
     "data": {
      "text/plain": [
       "'morse'"
      ]
     },
     "execution_count": 13,
     "metadata": {},
     "output_type": "execute_result"
    }
   ],
   "source": [
    "# 8.2\n",
    "e2f['Walrus']"
   ]
  },
  {
   "cell_type": "code",
   "execution_count": 28,
   "metadata": {},
   "outputs": [
    {
     "name": "stdout",
     "output_type": "stream",
     "text": [
      "{'chien': 'Dog', 'chat': 'Cat', 'morse': 'Walrus'}\n"
     ]
    }
   ],
   "source": [
    "# 8.3\n",
    "f2e={}\n",
    "for english, french in e2f.items():\n",
    "    f2e[french]=english\n",
    "print(f2e)\n",
    "    "
   ]
  },
  {
   "cell_type": "code",
   "execution_count": 30,
   "metadata": {},
   "outputs": [
    {
     "data": {
      "text/plain": [
       "'Dog'"
      ]
     },
     "execution_count": 30,
     "metadata": {},
     "output_type": "execute_result"
    }
   ],
   "source": [
    "# 8.4\n",
    "f2e.get('chien')"
   ]
  },
  {
   "cell_type": "code",
   "execution_count": 35,
   "metadata": {},
   "outputs": [
    {
     "data": {
      "text/plain": [
       "dict_keys(['Dog', 'Cat', 'Walrus'])"
      ]
     },
     "execution_count": 35,
     "metadata": {},
     "output_type": "execute_result"
    }
   ],
   "source": [
    "# 8.5\n",
    "e2f.keys()"
   ]
  },
  {
   "cell_type": "code",
   "execution_count": 50,
   "metadata": {},
   "outputs": [
    {
     "data": {
      "text/plain": [
       "{'animals': {'cats': ['Henry', 'Grumpy', 'Lucy'], 'emus': {}, 'octopi': {}},\n",
       " 'other': {},\n",
       " 'plants': {}}"
      ]
     },
     "execution_count": 50,
     "metadata": {},
     "output_type": "execute_result"
    }
   ],
   "source": [
    "# 8.6\n",
    "life={'animals':{'cats':[\n",
    "    'Henry','Grumpy', 'Lucy'],\n",
    "                 'octopi':{},\n",
    "                 'emus':{}\n",
    "                },\n",
    "      'plants':{},\n",
    "      'other':{}\n",
    "     }\n",
    "life"
   ]
  },
  {
   "cell_type": "code",
   "execution_count": 59,
   "metadata": {},
   "outputs": [
    {
     "name": "stdout",
     "output_type": "stream",
     "text": [
      "['animals', 'plants', 'other']\n"
     ]
    }
   ],
   "source": [
    "# 8.7\n",
    "print(list(life.keys()))"
   ]
  },
  {
   "cell_type": "code",
   "execution_count": 57,
   "metadata": {},
   "outputs": [
    {
     "name": "stdout",
     "output_type": "stream",
     "text": [
      "['cats', 'octopi', 'emus']\n"
     ]
    }
   ],
   "source": [
    "# 8.8\n",
    "print(list(life['animals'].keys()))"
   ]
  },
  {
   "cell_type": "code",
   "execution_count": 61,
   "metadata": {},
   "outputs": [
    {
     "name": "stdout",
     "output_type": "stream",
     "text": [
      "['Henry', 'Grumpy', 'Lucy']\n"
     ]
    }
   ],
   "source": [
    "# 8.9\n",
    "print(life['animals']['cats'])"
   ]
  },
  {
   "cell_type": "code",
   "execution_count": 1,
   "metadata": {},
   "outputs": [
    {
     "name": "stdout",
     "output_type": "stream",
     "text": [
      "{0: 0, 1: 1, 2: 4, 3: 9, 4: 16, 5: 25, 6: 36, 7: 49, 8: 64, 9: 81}\n"
     ]
    }
   ],
   "source": [
    "# 8.10\n",
    "squares={keys:keys*keys for keys in range(10)}\n",
    "print(squares)"
   ]
  },
  {
   "cell_type": "code",
   "execution_count": 6,
   "metadata": {},
   "outputs": [
    {
     "name": "stdout",
     "output_type": "stream",
     "text": [
      "{1, 3, 5, 7, 9}\n"
     ]
    }
   ],
   "source": [
    "# 8.11\n",
    "odd={odd for odd in range(1,10,2)}\n",
    "print(odd)"
   ]
  },
  {
   "cell_type": "code",
   "execution_count": 23,
   "metadata": {},
   "outputs": [
    {
     "name": "stdout",
     "output_type": "stream",
     "text": [
      "Got 0\n",
      "Got 1\n",
      "Got 2\n",
      "Got 3\n",
      "Got 4\n",
      "Got 5\n",
      "Got 6\n",
      "Got 7\n",
      "Got 8\n",
      "Got 9\n"
     ]
    }
   ],
   "source": [
    "# 8.12\n",
    "for got in ('Got %s' % number for number in range(10)):\n",
    "    print(got)"
   ]
  },
  {
   "cell_type": "code",
   "execution_count": 24,
   "metadata": {},
   "outputs": [
    {
     "data": {
      "text/plain": [
       "{'optimist': 'The glass is half full',\n",
       " 'pessimist': 'The glass is half empty',\n",
       " 'troll': 'How did you get a glass?'}"
      ]
     },
     "execution_count": 24,
     "metadata": {},
     "output_type": "execute_result"
    }
   ],
   "source": [
    "#8.13\n",
    "key = ('optimist', 'pessimist', 'troll')\n",
    "value = ('The glass is half full', 'The glass is half empty', 'How did you get a glass?')\n",
    "dict(zip(key, value))"
   ]
  },
  {
   "cell_type": "code",
   "execution_count": 28,
   "metadata": {},
   "outputs": [
    {
     "name": "stdout",
     "output_type": "stream",
     "text": [
      "{'Creature of Habit': 'A nun turns into a monster', 'Crewel Fate': 'A haunted yarn shop', 'Sharks On a Plane': 'Check your exits'}\n"
     ]
    }
   ],
   "source": [
    "#8.14\n",
    "titles = ['Creature of Habit', 'Crewel Fate', 'Sharks On a Plane'] \n",
    "plots = ['A nun turns into a monster', 'A haunted yarn shop', 'Check your exits']\n",
    "\n",
    "movies = dict(zip(titles, plots))\n",
    "print(movies)\n"
   ]
  },
  {
   "cell_type": "code",
   "execution_count": null,
   "metadata": {},
   "outputs": [],
   "source": []
  }
 ],
 "metadata": {
  "kernelspec": {
   "display_name": "Python 3",
   "language": "python",
   "name": "python3"
  },
  "language_info": {
   "codemirror_mode": {
    "name": "ipython",
    "version": 3
   },
   "file_extension": ".py",
   "mimetype": "text/x-python",
   "name": "python",
   "nbconvert_exporter": "python",
   "pygments_lexer": "ipython3",
   "version": "3.6.9"
  }
 },
 "nbformat": 4,
 "nbformat_minor": 2
}
