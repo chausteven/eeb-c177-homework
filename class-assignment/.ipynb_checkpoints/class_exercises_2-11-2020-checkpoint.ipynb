{
 "cells": [
  {
   "cell_type": "code",
   "execution_count": 1,
   "metadata": {},
   "outputs": [],
   "source": [
    "import numpy as np"
   ]
  },
  {
   "cell_type": "code",
   "execution_count": 3,
   "metadata": {},
   "outputs": [],
   "source": [
    "from collections import defaultdict"
   ]
  },
  {
   "cell_type": "code",
   "execution_count": 4,
   "metadata": {},
   "outputs": [],
   "source": [
    "newdd = defaultdict"
   ]
  },
  {
   "cell_type": "code",
   "execution_count": 32,
   "metadata": {},
   "outputs": [
    {
     "name": "stdout",
     "output_type": "stream",
     "text": [
      "1\n",
      "2\n",
      "3\n",
      "4\n",
      "5\n",
      "6\n",
      "7\n",
      "8\n"
     ]
    }
   ],
   "source": [
    "new_foodlist =[]\n",
    "food_list = 'spam spam spam spam spam spam eggs spam'\n",
    "new_foodlist = food_list.split(' ')\n",
    "count = 0\n",
    "\n",
    "for food in new_foodlist:\n",
    "    count += 1\n",
    "    print(count)\n",
    "\n",
    "    "
   ]
  },
  {
   "cell_type": "code",
   "execution_count": 12,
   "metadata": {},
   "outputs": [
    {
     "name": "stdout",
     "output_type": "stream",
     "text": [
      "['THIS', 'IS', 'MY', 'LIST', 'OF', 'WORDS']\n"
     ]
    }
   ],
   "source": [
    "bigwords = []\n",
    "words = ['this', 'is', 'my', 'list', 'of', 'words']\n",
    "\n",
    "for word in words:\n",
    "    bigwords.append(word.upper())\n",
    "print(bigwords)\n",
    "    "
   ]
  },
  {
   "cell_type": "code",
   "execution_count": 13,
   "metadata": {},
   "outputs": [
    {
     "name": "stdout",
     "output_type": "stream",
     "text": [
      "0\n",
      "1\n",
      "4\n",
      "9\n",
      "16\n",
      "25\n",
      "36\n",
      "49\n",
      "64\n",
      "81\n"
     ]
    }
   ],
   "source": [
    "number = 10\n",
    "for x in range(number):\n",
    "    output = x**2\n",
    "    print(output)"
   ]
  },
  {
   "cell_type": "code",
   "execution_count": 24,
   "metadata": {},
   "outputs": [
    {
     "name": "stdout",
     "output_type": "stream",
     "text": [
      "[0, 2, 4, 6, 8, 10, 12, 14, 16, 18, 20, 22, 24, 26, 28, 30, 32, 34, 36, 38, 40, 42, 44, 46, 48, 50, 52, 54, 56, 58, 60, 62, 64, 66, 68, 70, 72, 74, 76, 78, 80, 82, 84, 86, 88, 90, 92, 94, 96, 98, 100]\n"
     ]
    }
   ],
   "source": [
    "even=[]\n",
    "even = [number for number in range(101) if number % 2 == 0]\n",
    "print(even)"
   ]
  },
  {
   "cell_type": "code",
   "execution_count": 33,
   "metadata": {},
   "outputs": [
    {
     "name": "stdout",
     "output_type": "stream",
     "text": [
      "A\n",
      "l\n",
      "t\n",
      "o\n",
      "n\n"
     ]
    }
   ],
   "source": [
    "partner = 'Alton'\n",
    "for letter in partner:\n",
    "    print(letter)"
   ]
  },
  {
   "cell_type": "code",
   "execution_count": 72,
   "metadata": {},
   "outputs": [
    {
     "name": "stdout",
     "output_type": "stream",
     "text": [
      "Key: a has an odd value of 1\n",
      "Key: b has an even value of 2\n",
      "Key: c has an odd value of 3\n",
      "Key: d has an even value of 4\n",
      "Key: e has an odd value of 5\n"
     ]
    }
   ],
   "source": [
    "evenodd={'a': 1,'b': 2,'c': 3,'d': 4,'e': 5}\n",
    "\n",
    "for key, value in evenodd.items():\n",
    "    if value % 2 != 0:\n",
    "        print('Key:', key, 'has an odd value of', value)\n",
    "    else:\n",
    "        print('Key:', key, 'has an even value of', value)"
   ]
  },
  {
   "cell_type": "code",
   "execution_count": 76,
   "metadata": {},
   "outputs": [
    {
     "name": "stdout",
     "output_type": "stream",
     "text": [
      "the value at key a is 1\n",
      "1 is odd\n",
      "the value at key b is 2\n",
      "2 is even\n",
      "the value at key c is 3\n",
      "3 is odd\n",
      "the value at key d is 4\n",
      "4 is even\n",
      "the value at key e is 5\n",
      "5 is odd\n"
     ]
    }
   ],
   "source": [
    "for key in evenodd.keys():\n",
    "    print('the value at key {} is {}'.format(key, evenodd[key]))\n",
    "    if (evenodd[key] % 2 == 0):\n",
    "        print('{} is even'.format(evenodd[key]))\n",
    "    else:\n",
    "        print('{} is odd'.format(evenodd[key]))"
   ]
  },
  {
   "cell_type": "code",
   "execution_count": 77,
   "metadata": {},
   "outputs": [
    {
     "name": "stdout",
     "output_type": "stream",
     "text": [
      "0\n",
      "1\n",
      "2\n",
      "3\n",
      "4\n",
      "5\n",
      "6\n",
      "7\n",
      "8\n",
      "9\n"
     ]
    }
   ],
   "source": [
    "count = 0 \n",
    "while count<10:\n",
    "    print(count)\n",
    "    count += 1"
   ]
  },
  {
   "cell_type": "code",
   "execution_count": null,
   "metadata": {},
   "outputs": [],
   "source": [
    "count = 0\n",
    "check = true #should be True but just dont want it to always run\n",
    "while check:\n",
    "    print(count)\n",
    "    count += 1 \n",
    "#Will continue while loop since nothing is causing it to be false "
   ]
  },
  {
   "cell_type": "code",
   "execution_count": 79,
   "metadata": {},
   "outputs": [
    {
     "name": "stdout",
     "output_type": "stream",
     "text": [
      "False\n",
      "False\n",
      "True\n",
      "False\n",
      "True\n"
     ]
    }
   ],
   "source": [
    "print(3 == 5)\n",
    "print(3 > 5)\n",
    "print(3 <= 5)\n",
    "print(len(\"ATGC\") > 5)\n",
    "print('GAATTC'.count('T') > 1)"
   ]
  },
  {
   "cell_type": "code",
   "execution_count": null,
   "metadata": {},
   "outputs": [],
   "source": []
  }
 ],
 "metadata": {
  "kernelspec": {
   "display_name": "Python 3",
   "language": "python",
   "name": "python3"
  },
  "language_info": {
   "codemirror_mode": {
    "name": "ipython",
    "version": 3
   },
   "file_extension": ".py",
   "mimetype": "text/x-python",
   "name": "python",
   "nbconvert_exporter": "python",
   "pygments_lexer": "ipython3",
   "version": "3.6.9"
  }
 },
 "nbformat": 4,
 "nbformat_minor": 2
}
