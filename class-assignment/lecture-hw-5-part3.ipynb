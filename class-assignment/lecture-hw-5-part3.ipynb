{
 "cells": [
  {
   "cell_type": "code",
   "execution_count": 15,
   "metadata": {},
   "outputs": [
    {
     "name": "stdout",
     "output_type": "stream",
     "text": [
      "{1: 2, 2: 3, 3: 4, 4: 5}\n",
      "[(1, 2), (2, 3), (3, 4), (4, 5)]\n",
      "[(4, 5), (3, 4), (2, 3), (1, 2)]\n"
     ]
    }
   ],
   "source": [
    "#1\n",
    "d = {1:2,2:3,3:4,4:5}\n",
    "#Creates a dictionary with items and assigns it to variable d\n",
    "print(d)\n",
    "#Print dictionary \n",
    "ascending_order=sorted(d.items())\n",
    "#Sorts d in ascending order and assigns it to a variable\n",
    "print(ascending_order)\n",
    "#Prints dictionary in ascending order\n",
    "descending_order=sorted(d.items(), reverse=True)\n",
    "#Sorts d in descending order and assigns it to a variable\n",
    "print(descending_order)\n",
    "#Prints dictionary in descending order"
   ]
  },
  {
   "cell_type": "code",
   "execution_count": 18,
   "metadata": {},
   "outputs": [
    {
     "name": "stdout",
     "output_type": "stream",
     "text": [
      "{0: 10, 1: 20}\n",
      "{0: 10, 1: 20, 2: 30}\n"
     ]
    }
   ],
   "source": [
    "#2\n",
    "key={0:10, 1:20}\n",
    "#Creates dictionary and assigns it to variable \"key\"\n",
    "print(key)\n",
    "#Prints dictionary\n",
    "key[2]=30\n",
    "#Inserts new key into dictonary\n",
    "print(key)\n",
    "#Prints newly added key into dictionary"
   ]
  },
  {
   "cell_type": "code",
   "execution_count": 19,
   "metadata": {},
   "outputs": [
    {
     "data": {
      "text/plain": [
       "{1: 10, 2: 20, 3: 30, 4: 40, 5: 50, 6: 60}"
      ]
     },
     "execution_count": 19,
     "metadata": {},
     "output_type": "execute_result"
    }
   ],
   "source": [
    "#3\n",
    "dic1={1:10, 2:20}\n",
    "dic2={3:30, 4:40}\n",
    "dic3={5:50, 6:60}\n",
    "#Creates three dictionary with varying items\n",
    "{**dic1,**dic2,**dic3}\n",
    "#Combines the three dictionary into one"
   ]
  },
  {
   "cell_type": "code",
   "execution_count": 22,
   "metadata": {},
   "outputs": [
    {
     "name": "stdout",
     "output_type": "stream",
     "text": [
      "Key is present in dictionary\n",
      "Key is not present in dictionary\n"
     ]
    }
   ],
   "source": [
    "#4\n",
    "d={1:10,2:20,3:30,4:40}\n",
    "#Creates a dictionary and assigns it to d\n",
    "def is_key_present(x):\n",
    "#Creates a function \n",
    "    if x in d:\n",
    "        print(\"Key is present in dictionary\")\n",
    "    else:\n",
    "        print(\"Key is not present in dictionary\")\n",
    "#Creates an if/else statement and checks if x, the variable we are looking for, is in the dictionary,d.\n",
    "is_key_present(3)\n",
    "is_key_present(9)"
   ]
  },
  {
   "cell_type": "code",
   "execution_count": 23,
   "metadata": {},
   "outputs": [
    {
     "name": "stdout",
     "output_type": "stream",
     "text": [
      "a = 1\n",
      "b = 2\n",
      "c = 3\n"
     ]
    }
   ],
   "source": [
    "#5\n",
    "d={'a':1, 'b':2, 'c':3}\n",
    "#Creates a dictionary and assigns it to d\n",
    "for dict_key, dict_value in d.items():\n",
    "    print(dict_key, '=', dict_value)\n",
    "#Creates a for loop calling the key and value of each item in the dictionary then printing it"
   ]
  },
  {
   "cell_type": "code",
   "execution_count": 26,
   "metadata": {},
   "outputs": [
    {
     "name": "stdout",
     "output_type": "stream",
     "text": [
      "{1: 1, 2: 4, 3: 9, 4: 16, 5: 25}\n"
     ]
    }
   ],
   "source": [
    "#6\n",
    "n=5\n",
    "#Assigns variable 'n' to 5\n",
    "d=dict()\n",
    "#Assigns d to function creating dictionary\n",
    "for x in range (1,n+1):\n",
    "    d[x]=x*x\n",
    "#Creates a for loop assigning key to the value, which is the square of the key, if it falls in the range (1,n+1)\n",
    "print(d)"
   ]
  },
  {
   "cell_type": "code",
   "execution_count": 27,
   "metadata": {},
   "outputs": [
    {
     "name": "stdout",
     "output_type": "stream",
     "text": [
      "{1: 1, 2: 4, 3: 9, 4: 16, 5: 25, 6: 36, 7: 49, 8: 64, 9: 81, 10: 100, 11: 121, 12: 144, 13: 169, 14: 196, 15: 225}\n"
     ]
    }
   ],
   "source": [
    "#7\n",
    "d=dict()\n",
    "#Assigns d to function creating dictionary\n",
    "for x in range(1,16):\n",
    "    d[x]=x**2\n",
    "#Creates a for loop that takes x from range of (1,16) and assigns it as the key and the value is the square of the key\n",
    "print(d)"
   ]
  },
  {
   "cell_type": "code",
   "execution_count": 28,
   "metadata": {},
   "outputs": [
    {
     "data": {
      "text/plain": [
       "{1: 1, 2: 2, 3: 3, 4: 4}"
      ]
     },
     "execution_count": 28,
     "metadata": {},
     "output_type": "execute_result"
    }
   ],
   "source": [
    "#8\n",
    "dic1={1:1, 2:2}\n",
    "dic2={3:3, 4:4}\n",
    "#Create two dictionary dic1 and dic2\n",
    "{**dic1, **dic2}\n",
    "#Merges the two dictionary "
   ]
  },
  {
   "cell_type": "code",
   "execution_count": 30,
   "metadata": {},
   "outputs": [
    {
     "name": "stdout",
     "output_type": "stream",
     "text": [
      "a = 1\n",
      "b = 2\n",
      "c = 3\n"
     ]
    }
   ],
   "source": [
    "#9\n",
    "d={'a':1, 'b':2, 'c':3}\n",
    "#Creates dictionary and assigns to d\n",
    "for letter_key, value in d.items():\n",
    "    print(letter_key, '=', d[letter_key])\n",
    "#Creates for loop that calls for each letter key and its value in the dictionary and prints each out"
   ]
  },
  {
   "cell_type": "code",
   "execution_count": 33,
   "metadata": {},
   "outputs": [
    {
     "name": "stdout",
     "output_type": "stream",
     "text": [
      "6\n"
     ]
    }
   ],
   "source": [
    "#10\n",
    "d={2:1, 3:2, 4:3}\n",
    "#Creates dictionary and assigns to d\n",
    "print(sum(d.values()))\n",
    "#Prints out the sum of all the values in the dictionary "
   ]
  },
  {
   "cell_type": "code",
   "execution_count": null,
   "metadata": {},
   "outputs": [],
   "source": []
  }
 ],
 "metadata": {
  "kernelspec": {
   "display_name": "Python 3",
   "language": "python",
   "name": "python3"
  },
  "language_info": {
   "codemirror_mode": {
    "name": "ipython",
    "version": 3
   },
   "file_extension": ".py",
   "mimetype": "text/x-python",
   "name": "python",
   "nbconvert_exporter": "python",
   "pygments_lexer": "ipython3",
   "version": "3.6.9"
  }
 },
 "nbformat": 4,
 "nbformat_minor": 2
}
