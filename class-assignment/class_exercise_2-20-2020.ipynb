{
 "cells": [
  {
   "cell_type": "markdown",
   "metadata": {},
   "source": [
    "# Write a function that will return the A or T content of a DNA sequence"
   ]
  },
  {
   "cell_type": "code",
   "execution_count": 92,
   "metadata": {},
   "outputs": [],
   "source": [
    "def DNAreader(file):\n",
    "    length = len(file)\n",
    "    DNAcontent = []\n",
    "    for bp in file:\n",
    "        if bp.upper() == 'A' or bp.upper() == 'T':\n",
    "            DNAcontent.append(bp)\n",
    "    ATcontent = len(DNAcontent)/length\n",
    "    return ATcontent\n",
    "    "
   ]
  },
  {
   "cell_type": "code",
   "execution_count": 93,
   "metadata": {},
   "outputs": [],
   "source": [
    "def get_AT_content(dna):\n",
    "    dna = dna.upper()\n",
    "    length = len(dna)\n",
    "    a_count = dna.count('A')\n",
    "    t_count = dna.count('T')\n",
    "    at_content = (a_count + t_count)/length\n",
    "    return at_content"
   ]
  },
  {
   "cell_type": "code",
   "execution_count": 94,
   "metadata": {},
   "outputs": [],
   "source": [
    "ATcontent1 = get_AT_content('AGTGTCCCATTACATCGGTA')"
   ]
  },
  {
   "cell_type": "code",
   "execution_count": 95,
   "metadata": {},
   "outputs": [
    {
     "name": "stdout",
     "output_type": "stream",
     "text": [
      "0.55\n"
     ]
    }
   ],
   "source": [
    "print(str(ATcontent1)) "
   ]
  },
  {
   "cell_type": "code",
   "execution_count": 96,
   "metadata": {},
   "outputs": [
    {
     "name": "stdout",
     "output_type": "stream",
     "text": [
      "0.5625\n"
     ]
    }
   ],
   "source": [
    "print(DNAreader('aggtaccatacttagc'))"
   ]
  },
  {
   "cell_type": "markdown",
   "metadata": {},
   "source": [
    "# Round the output of the function to 2 sig figs"
   ]
  },
  {
   "cell_type": "code",
   "execution_count": 49,
   "metadata": {},
   "outputs": [
    {
     "data": {
      "text/plain": [
       "3.14"
      ]
     },
     "execution_count": 49,
     "metadata": {},
     "output_type": "execute_result"
    }
   ],
   "source": [
    "from math import pi\n",
    "pi\n",
    "round(pi,2) #Round function to specified number in this case 2"
   ]
  },
  {
   "cell_type": "code",
   "execution_count": 69,
   "metadata": {},
   "outputs": [],
   "source": [
    "def DNAreader(file, number=2): #Number is the amount of sigfig you want to return, but 2 is the default amount of sigfig\n",
    "    length = len(file)\n",
    "    DNAcontent = []\n",
    "    for bp in file:\n",
    "        if bp.upper() == 'A' or bp.upper() == 'T':\n",
    "            DNAcontent.append(bp)\n",
    "    ATcontent = len(DNAcontent)/length\n",
    "    return round(ATcontent, number)\n",
    "    "
   ]
  },
  {
   "cell_type": "code",
   "execution_count": 72,
   "metadata": {},
   "outputs": [
    {
     "data": {
      "text/plain": [
       "0.46154"
      ]
     },
     "execution_count": 72,
     "metadata": {},
     "output_type": "execute_result"
    }
   ],
   "source": [
    "DNAreader('ATATATGGGCCCC', 5)"
   ]
  },
  {
   "cell_type": "markdown",
   "metadata": {},
   "source": [
    "# Input Order"
   ]
  },
  {
   "cell_type": "code",
   "execution_count": 76,
   "metadata": {},
   "outputs": [],
   "source": [
    "def outOfOrder(number, pet):\n",
    "    print('I own {} {}s'.format(number, pet))"
   ]
  },
  {
   "cell_type": "code",
   "execution_count": 77,
   "metadata": {},
   "outputs": [
    {
     "name": "stdout",
     "output_type": "stream",
     "text": [
      "I own 3 dogs\n",
      "I own dog 3s\n"
     ]
    }
   ],
   "source": [
    "outOfOrder(3, \"dog\") #If you dont specify the key, the order that the values are being inputted is based on how you define it\n",
    "outOfOrder(\"dog\", 3)"
   ]
  },
  {
   "cell_type": "code",
   "execution_count": 79,
   "metadata": {},
   "outputs": [
    {
     "name": "stdout",
     "output_type": "stream",
     "text": [
      "I own 3 dogs\n",
      "I own 3 dogs\n"
     ]
    }
   ],
   "source": [
    "outOfOrder(number=3, pet='dog') #If you specify the key, the order does not matter\n",
    "outOfOrder(pet='dog', number=3)"
   ]
  },
  {
   "cell_type": "code",
   "execution_count": 83,
   "metadata": {},
   "outputs": [],
   "source": [
    "def outOfOrder(number = 20, pet = 'corgi'):\n",
    "    print('I own {} {}s'.format(number, pet))"
   ]
  },
  {
   "cell_type": "code",
   "execution_count": 84,
   "metadata": {},
   "outputs": [
    {
     "name": "stdout",
     "output_type": "stream",
     "text": [
      "I own 20 corgis\n"
     ]
    }
   ],
   "source": [
    "outOfOrder()"
   ]
  },
  {
   "cell_type": "markdown",
   "metadata": {},
   "source": [
    "# Modify your DNAreader so that your program passes assert with N's in it"
   ]
  },
  {
   "cell_type": "code",
   "execution_count": 99,
   "metadata": {},
   "outputs": [],
   "source": [
    "def DNAreader(file):\n",
    "    length = len(file.strip('N'))\n",
    "    DNAcontent = []\n",
    "    for bp in file:\n",
    "        if bp.upper() == 'A' or bp.upper() == 'T':\n",
    "            DNAcontent.append(bp)\n",
    "    ATcontent = len(DNAcontent)/length\n",
    "    return ATcontent"
   ]
  },
  {
   "cell_type": "code",
   "execution_count": 100,
   "metadata": {},
   "outputs": [],
   "source": [
    "assert(DNAreader(\"ATGC\")) == 0.5"
   ]
  },
  {
   "cell_type": "code",
   "execution_count": 101,
   "metadata": {},
   "outputs": [],
   "source": [
    "assert(DNAreader(\"ATGCNNNNNNNN\")) == 0.5"
   ]
  },
  {
   "cell_type": "code",
   "execution_count": null,
   "metadata": {},
   "outputs": [],
   "source": []
  }
 ],
 "metadata": {
  "kernelspec": {
   "display_name": "Python 3",
   "language": "python",
   "name": "python3"
  },
  "language_info": {
   "codemirror_mode": {
    "name": "ipython",
    "version": 3
   },
   "file_extension": ".py",
   "mimetype": "text/x-python",
   "name": "python",
   "nbconvert_exporter": "python",
   "pygments_lexer": "ipython3",
   "version": "3.6.9"
  }
 },
 "nbformat": 4,
 "nbformat_minor": 2
}
