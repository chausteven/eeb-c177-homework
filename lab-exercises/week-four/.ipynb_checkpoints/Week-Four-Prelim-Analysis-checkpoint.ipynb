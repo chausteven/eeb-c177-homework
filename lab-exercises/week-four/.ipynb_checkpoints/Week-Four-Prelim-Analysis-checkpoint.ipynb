{
 "cells": [
  {
   "cell_type": "code",
   "execution_count": 1,
   "metadata": {},
   "outputs": [],
   "source": [
    "import numpy"
   ]
  },
  {
   "cell_type": "code",
   "execution_count": 2,
   "metadata": {},
   "outputs": [],
   "source": [
    "import numpy as np"
   ]
  },
  {
   "cell_type": "code",
   "execution_count": 3,
   "metadata": {},
   "outputs": [],
   "source": [
    "data=numpy.loadtxt(fname=\"Anti-predator.csv\", delimiter=\",\", skiprows=1, usecols=(1,3,4,5))"
   ]
  },
  {
   "cell_type": "code",
   "execution_count": 4,
   "metadata": {},
   "outputs": [
    {
     "name": "stdout",
     "output_type": "stream",
     "text": [
      "[[6.000e+00 6.787e-01 0.000e+00 0.000e+00]\n",
      " [6.000e+00 5.123e-01 0.000e+00 1.313e-01]\n",
      " [6.000e+00 1.226e-01 2.800e-02 4.634e-01]\n",
      " [6.000e+00 1.760e-01 0.000e+00 2.480e-01]\n",
      " [6.000e+00 3.330e-01 0.000e+00 4.807e-01]\n",
      " [6.000e+00 1.494e-01 1.736e-01 5.330e-01]\n",
      " [6.000e+00 1.825e-01 8.460e-02 6.352e-01]\n",
      " [6.000e+00 0.000e+00 4.160e-01 5.746e-01]\n",
      " [6.000e+00 7.630e-02 0.000e+00 0.000e+00]\n",
      " [6.000e+00 0.000e+00 0.000e+00 0.000e+00]\n",
      " [6.000e+00 4.350e-02 5.760e-02 7.923e-01]\n",
      " [6.000e+00 2.712e-01 0.000e+00 2.570e-01]\n",
      " [6.000e+00 1.260e-01 0.000e+00 0.000e+00]\n",
      " [6.000e+00 0.000e+00 5.480e-02 9.300e-01]\n",
      " [6.000e+00 6.290e-02 6.297e-01 2.344e-01]\n",
      " [6.000e+00 1.054e-01 1.704e-01 7.169e-01]\n",
      " [6.000e+00 2.482e-01 0.000e+00 0.000e+00]\n",
      " [6.000e+00 1.767e-01 0.000e+00 7.347e-01]\n",
      " [6.000e+00 3.021e-01 0.000e+00 0.000e+00]\n",
      " [6.000e+00 0.000e+00 2.064e-01 7.793e-01]\n",
      " [1.200e+01 0.000e+00 6.105e-01 3.765e-01]\n",
      " [1.200e+01 0.000e+00 2.758e-01 6.002e-01]\n",
      " [1.200e+01 0.000e+00 2.775e-01 6.749e-01]\n",
      " [1.200e+01 4.370e-02 2.602e-01 4.534e-01]\n",
      " [1.200e+01 2.724e-01 0.000e+00 0.000e+00]\n",
      " [1.200e+01 1.651e-01 0.000e+00 2.120e-02]\n",
      " [1.200e+01 0.000e+00 3.619e-01 5.014e-01]\n",
      " [1.200e+01 1.626e-01 0.000e+00 5.070e-02]\n",
      " [1.200e+01 1.563e-01 0.000e+00 0.000e+00]\n",
      " [1.200e+01 1.590e-01 0.000e+00 0.000e+00]\n",
      " [1.200e+01 0.000e+00 8.580e-02 4.067e-01]\n",
      " [1.200e+01 9.100e-02 1.825e-01 5.772e-01]\n",
      " [1.200e+01 8.460e-02 2.191e-01 3.363e-01]\n",
      " [1.200e+01 8.240e-02 0.000e+00 8.059e-01]\n",
      " [1.200e+01 1.070e-01 0.000e+00 0.000e+00]\n",
      " [1.200e+01 1.077e-01 0.000e+00 0.000e+00]\n",
      " [1.200e+01 1.944e-01 1.360e-02 2.123e-01]\n",
      " [1.200e+01 0.000e+00 2.013e-01 3.260e-01]\n",
      " [1.200e+01 4.650e-02 3.203e-01 3.687e-01]\n",
      " [1.200e+01 2.340e-02 3.630e-02 2.600e-02]\n",
      " [1.200e+01 5.540e-02 0.000e+00 1.646e-01]\n",
      " [1.200e+01 6.550e-02 0.000e+00 0.000e+00]\n",
      " [1.200e+01 8.330e-02 1.018e-01 5.029e-01]\n",
      " [1.200e+01 5.380e-02 1.986e-01 1.937e-01]\n",
      " [1.800e+01 0.000e+00 0.000e+00 0.000e+00]\n",
      " [1.800e+01 0.000e+00 3.420e-02 8.552e-01]\n",
      " [1.800e+01 0.000e+00 0.000e+00 2.099e-01]\n",
      " [1.800e+01 0.000e+00 0.000e+00 0.000e+00]\n",
      " [1.800e+01 0.000e+00 2.297e-01 6.682e-01]\n",
      " [1.800e+01 8.320e-02 1.113e-01 2.869e-01]\n",
      " [1.800e+01 1.600e-01 0.000e+00 0.000e+00]\n",
      " [1.800e+01 1.394e-01 0.000e+00 0.000e+00]\n",
      " [1.800e+01 1.526e-01 1.458e-01 6.932e-01]\n",
      " [1.800e+01 0.000e+00 2.831e-01 7.028e-01]\n",
      " [1.800e+01 3.140e-02 4.850e-01 3.959e-01]\n",
      " [1.800e+01 3.166e-01 1.113e-01 3.893e-01]\n",
      " [1.800e+01 2.841e-01 1.002e-01 3.199e-01]\n",
      " [1.800e+01 0.000e+00 2.373e-01 7.467e-01]\n",
      " [1.800e+01 1.236e-01 1.056e-01 2.838e-01]]\n"
     ]
    }
   ],
   "source": [
    "print(data)"
   ]
  },
  {
   "cell_type": "code",
   "execution_count": 5,
   "metadata": {},
   "outputs": [
    {
     "name": "stdout",
     "output_type": "stream",
     "text": [
      "(59, 4)\n"
     ]
    }
   ],
   "source": [
    "#Here I am just seeing how many rows and columns are in my data set\n",
    "print(data.shape)"
   ]
  },
  {
   "cell_type": "code",
   "execution_count": 37,
   "metadata": {},
   "outputs": [
    {
     "name": "stdout",
     "output_type": "stream",
     "text": [
      "3.0139101694915253\n",
      "18.0\n",
      "5.410151652506325\n",
      "0.0\n"
     ]
    }
   ],
   "source": [
    "#Just trying different syntaxs\n",
    "print(np.mean(data))\n",
    "print(np.max(data))\n",
    "print(np.std(data))\n",
    "print(np.min(data))"
   ]
  },
  {
   "cell_type": "code",
   "execution_count": 53,
   "metadata": {},
   "outputs": [
    {
     "name": "stdout",
     "output_type": "stream",
     "text": [
      "[0.6787 0.5123 0.1226 0.176  0.333  0.1494 0.1825 0.     0.0763 0.\n",
      " 0.0435 0.2712 0.126  0.     0.0629 0.1054 0.2482 0.1767 0.3021 0.\n",
      " 0.     0.     0.     0.0437 0.2724 0.1651 0.     0.1626 0.1563 0.159\n",
      " 0.     0.091  0.0846 0.0824 0.107  0.1077 0.1944 0.     0.0465 0.0234\n",
      " 0.0554 0.0655 0.0833 0.0538 0.     0.     0.     0.     0.     0.0832\n",
      " 0.16   0.1394 0.1526 0.     0.0314 0.3166 0.2841 0.     0.1236]\n"
     ]
    }
   ],
   "source": [
    "#I am splicing the column \"Slow Approach\" grabbing all the rows for the index 1 and then printing it\n",
    "SlowApproach=data[:,1]\n",
    "print(SlowApproach)"
   ]
  },
  {
   "cell_type": "code",
   "execution_count": 54,
   "metadata": {},
   "outputs": [
    {
     "name": "stdout",
     "output_type": "stream",
     "text": [
      "[0.     0.     0.028  0.     0.     0.1736 0.0846 0.416  0.     0.\n",
      " 0.0576 0.     0.     0.0548 0.6297 0.1704 0.     0.     0.     0.2064]\n"
     ]
    }
   ],
   "source": [
    "#I am splicing the column \"Vigilance\" grabbing all the rows for index 2 and then printing it\n",
    "Vigilance=data[:,2]\n",
    "print(Vigilance6)"
   ]
  },
  {
   "cell_type": "code",
   "execution_count": 55,
   "metadata": {},
   "outputs": [
    {
     "name": "stdout",
     "output_type": "stream",
     "text": [
      "[0.     0.1313 0.4634 0.248  0.4807 0.533  0.6352 0.5746 0.     0.\n",
      " 0.7923 0.257  0.     0.93   0.2344 0.7169 0.     0.7347 0.     0.7793\n",
      " 0.3765 0.6002 0.6749 0.4534 0.     0.0212 0.5014 0.0507 0.     0.\n",
      " 0.4067 0.5772 0.3363 0.8059 0.     0.     0.2123 0.326  0.3687 0.026\n",
      " 0.1646 0.     0.5029 0.1937 0.     0.8552 0.2099 0.     0.6682 0.2869\n",
      " 0.     0.     0.6932 0.7028 0.3959 0.3893 0.3199 0.7467 0.2838]\n"
     ]
    }
   ],
   "source": [
    "#I am splicing the column \"Foraging\" grabbing all the rows for index 3 and then printing it\n",
    "Foraging=data[:,3]\n",
    "print(Foraging)"
   ]
  },
  {
   "cell_type": "code",
   "execution_count": 56,
   "metadata": {},
   "outputs": [
    {
     "name": "stdout",
     "output_type": "stream",
     "text": [
      "[ 6.  6.  6.  6.  6.  6.  6.  6.  6.  6.  6.  6.  6.  6.  6.  6.  6.  6.\n",
      "  6.  6. 12. 12. 12. 12. 12. 12. 12. 12. 12. 12. 12. 12. 12. 12. 12. 12.\n",
      " 12. 12. 12. 12. 12. 12. 12. 12. 18. 18. 18. 18. 18. 18. 18. 18. 18. 18.\n",
      " 18. 18. 18. 18. 18.]\n"
     ]
    }
   ],
   "source": [
    "#I am splicing the column \"Time\" grabbing all the rows for index 0 and then printing it\n",
    "Time=data[:,0]\n",
    "print(Time)"
   ]
  },
  {
   "cell_type": "code",
   "execution_count": 57,
   "metadata": {},
   "outputs": [],
   "source": [
    "#Importing matplotlib so that I can plot some of my data\n",
    "#I initially wanted to seperate my data by looking at the control and experimental variable(Cat) in order to see if there was a difference in behavior for each of the three behavior categories depending on the experimental variable. However, I could not find how to seperate the two using numpy since \"Control\" and \"Cat\" could not be converted into floats.\n",
    "#I decided instead, to analyzed how the difference in time allowed for the bettongs to acclimate and how that affected the behavior score of each of the three behavior catergories.\n",
    "import matplotlib.pyplot as plt"
   ]
  },
  {
   "cell_type": "code",
   "execution_count": 58,
   "metadata": {},
   "outputs": [],
   "source": [
    "y1=SlowApproach\n",
    "y2=Vigilance\n",
    "y3=Foraging\n",
    "x1=Time"
   ]
  },
  {
   "cell_type": "code",
   "execution_count": 59,
   "metadata": {},
   "outputs": [
    {
     "data": {
      "text/plain": [
       "Text(0, 0.5, 'Behavior Score')"
      ]
     },
     "execution_count": 59,
     "metadata": {},
     "output_type": "execute_result"
    },
    {
     "data": {
      "image/png": "[encoded data removed]",
      "text/plain": [
       "<Figure size 432x288 with 1 Axes>"
      ]
     },
     "metadata": {},
     "output_type": "display_data"
    }
   ],
   "source": [
    "#Here you can see that as the bettongs were able to acclimate to their new environment they became less wary of the environment and displayed less of a \"slow approach\" towards the food tray.\n",
    "plt.scatter(x1, y1, label=\"Slow Approach\", color=\"green\", marker=\"o\", s=50)\n",
    "plt.xlabel(\"Time (months)\")\n",
    "plt.ylabel(\"Behavior Score\")"
   ]
  },
  {
   "cell_type": "code",
   "execution_count": 60,
   "metadata": {},
   "outputs": [
    {
     "data": {
      "text/plain": [
       "Text(0, 0.5, 'Behavior Score')"
      ]
     },
     "execution_count": 60,
     "metadata": {},
     "output_type": "execute_result"
    },
    {
     "data": {
      "image/png": "[encoded data removed]",
      "text/plain": [
       "<Figure size 432x288 with 1 Axes>"
      ]
     },
     "metadata": {},
     "output_type": "display_data"
    }
   ],
   "source": [
    "#Here we see that as the bettongs were able to acclimate to their new environment they became slightly less vigilant towards the environment when at the food tray.\n",
    "plt.scatter(x1, y2, label=\"Vigilance\", color=\"red\", marker=\"^\", s=50)\n",
    "plt.xlabel(\"Time (months)\")\n",
    "plt.ylabel(\"Behavior Score\")"
   ]
  },
  {
   "cell_type": "code",
   "execution_count": 61,
   "metadata": {},
   "outputs": [
    {
     "data": {
      "text/plain": [
       "Text(0, 0.5, 'Behavior Score')"
      ]
     },
     "execution_count": 61,
     "metadata": {},
     "output_type": "execute_result"
    },
    {
     "data": {
      "image/png": "[encoded data removed]",
      "text/plain": [
       "<Figure size 432x288 with 1 Axes>"
      ]
     },
     "metadata": {},
     "output_type": "display_data"
    }
   ],
   "source": [
    "#Here as the bettongs were able to acclimate to their new environment their was not much change in their behavior, head down when foraging the food tray. \n",
    "plt.scatter(x1, y3, label=\"Foraging\", color=\"blue\", marker=\"*\", s=50)\n",
    "plt.xlabel(\"Time\" )\n",
    "plt.ylabel(\"Behavior Score\")"
   ]
  },
  {
   "cell_type": "code",
   "execution_count": null,
   "metadata": {},
   "outputs": [],
   "source": []
  }
 ],
 "metadata": {
  "kernelspec": {
   "display_name": "Python 3",
   "language": "python",
   "name": "python3"
  },
  "language_info": {
   "codemirror_mode": {
    "name": "ipython",
    "version": 3
   },
   "file_extension": ".py",
   "mimetype": "text/x-python",
   "name": "python",
   "nbconvert_exporter": "python",
   "pygments_lexer": "ipython3",
   "version": "3.6.9"
  }
 },
 "nbformat": 4,
 "nbformat_minor": 2
}
