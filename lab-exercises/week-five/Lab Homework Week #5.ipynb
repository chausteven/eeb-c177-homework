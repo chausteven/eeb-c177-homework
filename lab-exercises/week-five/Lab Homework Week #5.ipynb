{
 "cells": [
  {
   "cell_type": "code",
   "execution_count": 3,
   "metadata": {},
   "outputs": [],
   "source": [
    "import numpy"
   ]
  },
  {
   "cell_type": "code",
   "execution_count": 4,
   "metadata": {},
   "outputs": [],
   "source": [
    "import numpy as np"
   ]
  },
  {
   "cell_type": "code",
   "execution_count": 14,
   "metadata": {},
   "outputs": [
    {
     "name": "stdout",
     "output_type": "stream",
     "text": [
      "[[0. 0. 1. ... 3. 0. 0.]\n",
      " [0. 1. 2. ... 1. 0. 1.]\n",
      " [0. 1. 1. ... 2. 1. 1.]\n",
      " ...\n",
      " [0. 0. 1. ... 3. 0. 0.]\n",
      " [0. 1. 2. ... 1. 0. 1.]\n",
      " [0. 1. 1. ... 2. 1. 1.]]\n"
     ]
    }
   ],
   "source": [
    "inflam_data = numpy.loadtxt(fname=\"inflammation-01.csv\", delimiter=',')\n",
    "print(inflam_data)"
   ]
  },
  {
   "cell_type": "code",
   "execution_count": 40,
   "metadata": {
    "scrolled": true
   },
   "outputs": [
    {
     "name": "stdout",
     "output_type": "stream",
     "text": [
      "0.0\n",
      "0.4714045207910317\n",
      "0.4714045207910317\n",
      "0.9428090415820634\n",
      "0.816496580927726\n",
      "0.4714045207910317\n",
      "1.247219128924647\n",
      "2.357022603955158\n",
      "2.449489742783178\n",
      "2.449489742783178\n",
      "2.943920288775949\n",
      "3.265986323710904\n",
      "2.6246692913372702\n",
      "1.8856180831641267\n",
      "1.4142135623730951\n",
      "5.1854497287013475\n",
      "0.9428090415820632\n",
      "3.6817870057290873\n",
      "1.699673171197595\n",
      "4.988876515698588\n",
      "5.9066817155564495\n",
      "4.496912521077347\n",
      "0.4714045207910316\n",
      "4.898979485566356\n",
      "2.357022603955158\n",
      "2.357022603955158\n",
      "3.2998316455372225\n",
      "0.816496580927726\n",
      "2.867441755680875\n",
      "2.6246692913372702\n",
      "3.091206165165234\n",
      "0.4714045207910317\n",
      "0.4714045207910317\n",
      "2.0548046676563256\n",
      "1.247219128924647\n",
      "0.816496580927726\n",
      "0.4714045207910317\n",
      "0.816496580927726\n",
      "0.4714045207910317\n",
      "0.4714045207910317\n"
     ]
    }
   ],
   "source": [
    "for x in range(40):\n",
    "    patientstd=np.std(inflam_data[:,x])\n",
    "    print(patientstd)\n"
   ]
  },
  {
   "cell_type": "code",
   "execution_count": 38,
   "metadata": {},
   "outputs": [
    {
     "ename": "IndexError",
     "evalue": "index 41 is out of bounds for axis 1 with size 40",
     "output_type": "error",
     "traceback": [
      "\u001b[0;31m---------------------------------------------------------------------------\u001b[0m",
      "\u001b[0;31mIndexError\u001b[0m                                Traceback (most recent call last)",
      "\u001b[0;32m<ipython-input-38-c6bfd9c4234c>\u001b[0m in \u001b[0;36m<module>\u001b[0;34m()\u001b[0m\n\u001b[0;32m----> 1\u001b[0;31m \u001b[0mnp\u001b[0m\u001b[0;34m.\u001b[0m\u001b[0mstd\u001b[0m\u001b[0;34m(\u001b[0m\u001b[0minflam_data\u001b[0m\u001b[0;34m[\u001b[0m\u001b[0;34m:\u001b[0m\u001b[0;34m,\u001b[0m\u001b[0;36m41\u001b[0m\u001b[0;34m]\u001b[0m\u001b[0;34m)\u001b[0m\u001b[0;34m\u001b[0m\u001b[0;34m\u001b[0m\u001b[0m\n\u001b[0m",
      "\u001b[0;31mIndexError\u001b[0m: index 41 is out of bounds for axis 1 with size 40"
     ]
    }
   ],
   "source": []
  },
  {
   "cell_type": "code",
   "execution_count": null,
   "metadata": {},
   "outputs": [],
   "source": []
  }
 ],
 "metadata": {
  "kernelspec": {
   "display_name": "Python 3",
   "language": "python",
   "name": "python3"
  },
  "language_info": {
   "codemirror_mode": {
    "name": "ipython",
    "version": 3
   },
   "file_extension": ".py",
   "mimetype": "text/x-python",
   "name": "python",
   "nbconvert_exporter": "python",
   "pygments_lexer": "ipython3",
   "version": "3.6.9"
  }
 },
 "nbformat": 4,
 "nbformat_minor": 2
}
